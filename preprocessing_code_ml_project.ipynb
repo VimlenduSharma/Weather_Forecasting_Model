{
 "cells": [
  {
   "cell_type": "code",
   "execution_count": 2,
   "id": "28eedf79",
   "metadata": {},
   "outputs": [
    {
     "name": "stdout",
     "output_type": "stream",
     "text": [
      "Requirement already satisfied: numpy in c:\\users\\dell\\anaconda3\\lib\\site-packages (1.24.3)\n",
      "Requirement already satisfied: pandas in c:\\users\\dell\\anaconda3\\lib\\site-packages (1.5.3)\n",
      "Requirement already satisfied: python-dateutil>=2.8.1 in c:\\users\\dell\\anaconda3\\lib\\site-packages (from pandas) (2.8.2)\n",
      "Requirement already satisfied: pytz>=2020.1 in c:\\users\\dell\\anaconda3\\lib\\site-packages (from pandas) (2022.7)\n",
      "Requirement already satisfied: numpy>=1.21.0 in c:\\users\\dell\\anaconda3\\lib\\site-packages (from pandas) (1.24.3)\n",
      "Requirement already satisfied: six>=1.5 in c:\\users\\dell\\anaconda3\\lib\\site-packages (from python-dateutil>=2.8.1->pandas) (1.16.0)\n"
     ]
    }
   ],
   "source": [
    "!pip install numpy\n",
    "!pip install pandas"
   ]
  },
  {
   "cell_type": "code",
   "execution_count": 2,
   "id": "2829154c",
   "metadata": {},
   "outputs": [],
   "source": [
    "import pandas as pd #data preprocessing,csv file i/0\n",
    "import numpy as np#linear algebra"
   ]
  },
  {
   "cell_type": "code",
   "execution_count": 3,
   "id": "d8bf7d2f",
   "metadata": {},
   "outputs": [],
   "source": [
    "df=pd.read_csv('Weather Training Data.csv')"
   ]
  },
  {
   "cell_type": "code",
   "execution_count": 4,
   "id": "7ce8c5ba",
   "metadata": {},
   "outputs": [
    {
     "name": "stdout",
     "output_type": "stream",
     "text": [
      "Size of weather data frame is: (99516, 23)\n"
     ]
    }
   ],
   "source": [
    "print('Size of weather data frame is:',df.shape)"
   ]
  },
  {
   "cell_type": "code",
   "execution_count": 5,
   "id": "497cd0e0",
   "metadata": {},
   "outputs": [
    {
     "name": "stdout",
     "output_type": "stream",
     "text": [
      "  row ID Location  MinTemp  MaxTemp  Rainfall  Evaporation  Sunshine  \\\n",
      "0   Row0   Albury     13.4     22.9       0.6          NaN       NaN   \n",
      "1   Row1   Albury      7.4     25.1       0.0          NaN       NaN   \n",
      "2   Row2   Albury     17.5     32.3       1.0          NaN       NaN   \n",
      "3   Row3   Albury     14.6     29.7       0.2          NaN       NaN   \n",
      "4   Row4   Albury      7.7     26.7       0.0          NaN       NaN   \n",
      "\n",
      "  WindGustDir  WindGustSpeed WindDir9am  ... Humidity9am  Humidity3pm  \\\n",
      "0           W           44.0          W  ...        71.0         22.0   \n",
      "1         WNW           44.0        NNW  ...        44.0         25.0   \n",
      "2           W           41.0        ENE  ...        82.0         33.0   \n",
      "3         WNW           56.0          W  ...        55.0         23.0   \n",
      "4           W           35.0        SSE  ...        48.0         19.0   \n",
      "\n",
      "   Pressure9am  Pressure3pm  Cloud9am  Cloud3pm  Temp9am  Temp3pm  RainToday  \\\n",
      "0       1007.7       1007.1       8.0       NaN     16.9     21.8         No   \n",
      "1       1010.6       1007.8       NaN       NaN     17.2     24.3         No   \n",
      "2       1010.8       1006.0       7.0       8.0     17.8     29.7         No   \n",
      "3       1009.2       1005.4       NaN       NaN     20.6     28.9         No   \n",
      "4       1013.4       1010.1       NaN       NaN     16.3     25.5         No   \n",
      "\n",
      "   RainTomorrow  \n",
      "0             0  \n",
      "1             0  \n",
      "2             0  \n",
      "3             0  \n",
      "4             0  \n",
      "\n",
      "[5 rows x 23 columns]\n"
     ]
    }
   ],
   "source": [
    "print(df[0:5])"
   ]
  },
  {
   "cell_type": "code",
   "execution_count": 6,
   "id": "cd6d2a37",
   "metadata": {},
   "outputs": [
    {
     "name": "stdout",
     "output_type": "stream",
     "text": [
      "Sunshine         52199\n",
      "Evaporation      56985\n",
      "Cloud3pm         59514\n",
      "Cloud9am         61944\n",
      "Pressure9am      89768\n",
      "Pressure3pm      89780\n",
      "WindDir9am       92510\n",
      "WindGustDir      92995\n",
      "WindGustSpeed    93036\n",
      "WindDir3pm       96868\n",
      "Humidity3pm      97010\n",
      "Temp3pm          97612\n",
      "WindSpeed3pm     97681\n",
      "Humidity9am      98283\n",
      "Rainfall         98537\n",
      "RainToday        98537\n",
      "WindSpeed9am     98581\n",
      "Temp9am          98902\n",
      "MinTemp          99073\n",
      "MaxTemp          99286\n",
      "row ID           99516\n",
      "Location         99516\n",
      "RainTomorrow     99516\n",
      "dtype: int64\n"
     ]
    }
   ],
   "source": [
    "#checking null values\n",
    "#data_preprocessing\n",
    "print(df.count().sort_values())"
   ]
  },
  {
   "cell_type": "code",
   "execution_count": 12,
   "id": "014a5b00",
   "metadata": {},
   "outputs": [
    {
     "name": "stdout",
     "output_type": "stream",
     "text": [
      "(99516, 18)\n"
     ]
    }
   ],
   "source": [
    "#removing_unwanted_variables\n",
    "df=df.drop(columns=['Sunshine','Evaporation','Cloud3pm','Cloud9am','Location'],axis=1)\n",
    "print(df.shape)"
   ]
  },
  {
   "cell_type": "code",
   "execution_count": 13,
   "id": "659ed028",
   "metadata": {},
   "outputs": [
    {
     "name": "stdout",
     "output_type": "stream",
     "text": [
      "(79140, 18)\n"
     ]
    }
   ],
   "source": [
    "#get_rid_of_null_values\n",
    "df=df.dropna(how='any')\n",
    "print(df.shape)"
   ]
  },
  {
   "cell_type": "code",
   "execution_count": 14,
   "id": "19ac8586",
   "metadata": {},
   "outputs": [
    {
     "name": "stdout",
     "output_type": "stream",
     "text": [
      "        MinTemp   MaxTemp  Rainfall  WindGustSpeed  WindSpeed9am  \\\n",
      "0      0.119802  0.105934  0.207977       0.240913      0.576967   \n",
      "1      0.842097  0.209274  0.278039       0.240913      1.339686   \n",
      "2      0.777100  1.240864  0.161269       0.015814      0.980314   \n",
      "3      0.312182  0.868346  0.254685       1.141306      0.457176   \n",
      "4      0.794002  0.438516  0.278039       0.434382      1.100105   \n",
      "...         ...       ...       ...            ...           ...   \n",
      "99511  0.745907  0.421143  0.278039       0.015814      0.457176   \n",
      "99512  1.467331  0.263539  0.278039       0.734513      0.021987   \n",
      "99513  1.579553  0.034296  0.278039       0.734513      0.261569   \n",
      "99514  1.451299  0.237929  0.278039       1.409809      0.261569   \n",
      "99515  1.162730  0.467171  0.278039       0.284317      0.740732   \n",
      "\n",
      "       WindSpeed3pm  Humidity9am  Humidity3pm  Pressure9am  Pressure3pm  \\\n",
      "0          0.523188     0.188186     1.381221     1.385198     1.143726   \n",
      "1          0.290050     1.237542     1.236549     0.973301     1.043301   \n",
      "2          0.056912     0.769038     0.850755     0.944895     1.301538   \n",
      "3          0.523188     0.656690     1.332997     1.172148     1.387617   \n",
      "4          0.292795     1.026323     1.525894     0.575608     0.713331   \n",
      "...             ...          ...          ...          ...          ...   \n",
      "99511      0.756326     0.603885     0.898979     1.512280     1.323876   \n",
      "99512      0.759071     0.445471     1.140100     1.029367     0.879133   \n",
      "99513      0.992209     0.867909     1.284773     1.015164     0.750015   \n",
      "99514      1.225348     0.603885     1.429446     0.858927     0.577856   \n",
      "99515      1.225348     0.762299     1.284773     0.503844     0.247886   \n",
      "\n",
      "        Temp9am   Temp3pm  RainTomorrow  \n",
      "0      0.085147  0.045675      0.534549  \n",
      "1      0.037889  0.320335      0.534549  \n",
      "2      0.056626  1.110917      0.534549  \n",
      "3      0.497697  0.993794      0.534549  \n",
      "4      0.179662  0.496020      0.534549  \n",
      "...         ...       ...           ...  \n",
      "99511  0.920031  0.309202      0.534549  \n",
      "99512  1.266587  0.177438      0.534549  \n",
      "99513  1.156319  0.042168      0.534549  \n",
      "99514  1.030299  0.349616      0.534549  \n",
      "99515  0.778258  0.583863      0.534549  \n",
      "\n",
      "[79140 rows x 13 columns]\n",
      "(75601, 18)\n"
     ]
    }
   ],
   "source": [
    "#remove_outliers_in_data_using_z_score\n",
    "from scipy import stats\n",
    "z=np.abs(stats.zscore(df._get_numeric_data()))\n",
    "print(z)\n",
    "df=df[(z<3).all(axis=1)]\n",
    "print(df.shape)"
   ]
  },
  {
   "cell_type": "code",
   "execution_count": 19,
   "id": "d28ef82e",
   "metadata": {},
   "outputs": [
    {
     "name": "stdout",
     "output_type": "stream",
     "text": [
      "(75601, 63)\n",
      "          row ID  MinTemp  MaxTemp  Rainfall  WindGustSpeed  WindSpeed9am  \\\n",
      "0           Row0     13.4     22.9       0.6           44.0          20.0   \n",
      "1           Row1      7.4     25.1       0.0           44.0           4.0   \n",
      "2           Row2     17.5     32.3       1.0           41.0           7.0   \n",
      "3           Row3     14.6     29.7       0.2           56.0          19.0   \n",
      "4           Row4      7.7     26.7       0.0           35.0           6.0   \n",
      "...          ...      ...      ...       ...            ...           ...   \n",
      "99511  Row101816      8.0     20.7       0.0           41.0          19.0   \n",
      "99512  Row101817      3.5     21.8       0.0           31.0          15.0   \n",
      "99513  Row101818      2.8     23.4       0.0           31.0          13.0   \n",
      "99514  Row101819      3.6     25.3       0.0           22.0          13.0   \n",
      "99515  Row101820      5.4     26.9       0.0           37.0           9.0   \n",
      "\n",
      "       WindSpeed3pm  Humidity9am  Humidity3pm  Pressure9am  ...  \\\n",
      "0              24.0         71.0         22.0       1007.7  ...   \n",
      "1              22.0         44.0         25.0       1010.6  ...   \n",
      "2              20.0         82.0         33.0       1010.8  ...   \n",
      "3              24.0         55.0         23.0       1009.2  ...   \n",
      "4              17.0         48.0         19.0       1013.4  ...   \n",
      "...             ...          ...          ...          ...  ...   \n",
      "99511          26.0         56.0         32.0       1028.1  ...   \n",
      "99512          13.0         59.0         27.0       1024.7  ...   \n",
      "99513          11.0         51.0         24.0       1024.6  ...   \n",
      "99514           9.0         56.0         21.0       1023.5  ...   \n",
      "99515           9.0         53.0         24.0       1021.0  ...   \n",
      "\n",
      "       WindDir9am_NNW  WindDir9am_NW  WindDir9am_S  WindDir9am_SE  \\\n",
      "0                   0              0             0              0   \n",
      "1                   1              0             0              0   \n",
      "2                   0              0             0              0   \n",
      "3                   0              0             0              0   \n",
      "4                   0              0             0              0   \n",
      "...               ...            ...           ...            ...   \n",
      "99511               0              0             0              1   \n",
      "99512               0              0             0              0   \n",
      "99513               0              0             0              1   \n",
      "99514               0              0             0              1   \n",
      "99515               0              0             0              1   \n",
      "\n",
      "       WindDir9am_SSE  WindDir9am_SSW  WindDir9am_SW  WindDir9am_W  \\\n",
      "0                   0               0              0             1   \n",
      "1                   0               0              0             0   \n",
      "2                   0               0              0             0   \n",
      "3                   0               0              0             1   \n",
      "4                   1               0              0             0   \n",
      "...               ...             ...            ...           ...   \n",
      "99511               0               0              0             0   \n",
      "99512               0               0              0             0   \n",
      "99513               0               0              0             0   \n",
      "99514               0               0              0             0   \n",
      "99515               0               0              0             0   \n",
      "\n",
      "       WindDir9am_WNW  WindDir9am_WSW  \n",
      "0                   0               0  \n",
      "1                   0               0  \n",
      "2                   0               0  \n",
      "3                   0               0  \n",
      "4                   0               0  \n",
      "...               ...             ...  \n",
      "99511               0               0  \n",
      "99512               0               0  \n",
      "99513               0               0  \n",
      "99514               0               0  \n",
      "99515               0               0  \n",
      "\n",
      "[75601 rows x 63 columns]\n"
     ]
    }
   ],
   "source": [
    "#for-categorical_columns_change_yes_no_to_1/0_for_rain_today_and_rain_tommorrow\n",
    "df['RainToday'].replace({'No':0,'Yes':1},inplace=True)\n",
    "df['RainTomorrow'].replace({'No':0,'Yes':1},inplace=True)\n",
    "print(df.shape)\n",
    "print(df)"
   ]
  },
  {
   "cell_type": "code",
   "execution_count": 30,
   "id": "0ade8a54",
   "metadata": {},
   "outputs": [
    {
     "name": "stdout",
     "output_type": "stream",
     "text": [
      "[0 1]\n",
      "  row ID  MinTemp  MaxTemp  Rainfall  WindGustSpeed  WindSpeed9am  \\\n",
      "4   Row4      7.7     26.7       0.0           35.0           6.0   \n",
      "5   Row5     13.1     30.1       1.4           28.0          15.0   \n",
      "6   Row6     13.4     30.4       0.0           30.0          17.0   \n",
      "7   Row7     15.9     21.7       2.2           31.0          15.0   \n",
      "8   Row8     12.6     21.0       3.6           44.0          24.0   \n",
      "\n",
      "   WindSpeed3pm  Humidity9am  Humidity3pm  Pressure9am  ...  WindDir9am_S  \\\n",
      "4          17.0         48.0         19.0       1013.4  ...             0   \n",
      "5          11.0         58.0         27.0       1007.0  ...             1   \n",
      "6           6.0         48.0         22.0       1011.8  ...             0   \n",
      "7          13.0         89.0         91.0       1010.5  ...             0   \n",
      "8          20.0         65.0         43.0       1001.2  ...             0   \n",
      "\n",
      "   WindDir9am_SE  WindDir9am_SSE  WindDir9am_SSW  WindDir9am_SW  WindDir9am_W  \\\n",
      "4              0               1               0              0             0   \n",
      "5              0               0               0              0             0   \n",
      "6              0               1               0              0             0   \n",
      "7              0               0               0              0             0   \n",
      "8              0               0               0              0             1   \n",
      "\n",
      "   WindDir9am_WNW_0  WindDir9am_WNW_1  WindDir9am_WSW_0  WindDir9am_WSW_1  \n",
      "4                 1                 0                 1                 0  \n",
      "5                 1                 0                 1                 0  \n",
      "6                 1                 0                 1                 0  \n",
      "7                 1                 0                 1                 0  \n",
      "8                 1                 0                 1                 0  \n",
      "\n",
      "[5 rows x 65 columns]\n"
     ]
    }
   ],
   "source": [
    "#change_unique_values_to_int\n",
    "categorical_columns=['WindDir9am_WSW']\n",
    "for col in categorical_columns:\n",
    "    print(np.unique(df[col]))\n",
    "    #transform_categorical_columns\n",
    "df=pd.get_dummies(df,columns=categorical_columns)\n",
    "print(df.iloc[4:9])"
   ]
  },
  {
   "cell_type": "code",
   "execution_count": 31,
   "id": "557a7c40",
   "metadata": {},
   "outputs": [
    {
     "ename": "ValueError",
     "evalue": "could not convert string to float: 'Row0'",
     "output_type": "error",
     "traceback": [
      "\u001b[1;31m---------------------------------------------------------------------------\u001b[0m",
      "\u001b[1;31mValueError\u001b[0m                                Traceback (most recent call last)",
      "Cell \u001b[1;32mIn[31], line 11\u001b[0m\n\u001b[0;32m      9\u001b[0m \u001b[38;5;28;01mfrom\u001b[39;00m \u001b[38;5;21;01msklearn\u001b[39;00m \u001b[38;5;28;01mimport\u001b[39;00m preprocessing\n\u001b[0;32m     10\u001b[0m scaler\u001b[38;5;241m=\u001b[39mpreprocessing\u001b[38;5;241m.\u001b[39mMinMaxScaler()\n\u001b[1;32m---> 11\u001b[0m scaler\u001b[38;5;241m.\u001b[39mfit(df)\n\u001b[0;32m     12\u001b[0m df\u001b[38;5;241m=\u001b[39mpd\u001b[38;5;241m.\u001b[39mDataFrame(scaler\u001b[38;5;241m.\u001b[39mtransform(df),index\u001b[38;5;241m=\u001b[39mdf\u001b[38;5;241m.\u001b[39mindex,columns\u001b[38;5;241m=\u001b[39mdf\u001b[38;5;241m.\u001b[39mcolumns)\n\u001b[0;32m     13\u001b[0m \u001b[38;5;28mprint\u001b[39m(df\u001b[38;5;241m.\u001b[39miloc[\u001b[38;5;241m4\u001b[39m:\u001b[38;5;241m10\u001b[39m])\n",
      "File \u001b[1;32m~\\anaconda3\\Lib\\site-packages\\sklearn\\preprocessing\\_data.py:434\u001b[0m, in \u001b[0;36mMinMaxScaler.fit\u001b[1;34m(self, X, y)\u001b[0m\n\u001b[0;32m    432\u001b[0m \u001b[38;5;66;03m# Reset internal state before fitting\u001b[39;00m\n\u001b[0;32m    433\u001b[0m \u001b[38;5;28mself\u001b[39m\u001b[38;5;241m.\u001b[39m_reset()\n\u001b[1;32m--> 434\u001b[0m \u001b[38;5;28;01mreturn\u001b[39;00m \u001b[38;5;28mself\u001b[39m\u001b[38;5;241m.\u001b[39mpartial_fit(X, y)\n",
      "File \u001b[1;32m~\\anaconda3\\Lib\\site-packages\\sklearn\\base.py:1151\u001b[0m, in \u001b[0;36m_fit_context.<locals>.decorator.<locals>.wrapper\u001b[1;34m(estimator, *args, **kwargs)\u001b[0m\n\u001b[0;32m   1144\u001b[0m     estimator\u001b[38;5;241m.\u001b[39m_validate_params()\n\u001b[0;32m   1146\u001b[0m \u001b[38;5;28;01mwith\u001b[39;00m config_context(\n\u001b[0;32m   1147\u001b[0m     skip_parameter_validation\u001b[38;5;241m=\u001b[39m(\n\u001b[0;32m   1148\u001b[0m         prefer_skip_nested_validation \u001b[38;5;129;01mor\u001b[39;00m global_skip_validation\n\u001b[0;32m   1149\u001b[0m     )\n\u001b[0;32m   1150\u001b[0m ):\n\u001b[1;32m-> 1151\u001b[0m     \u001b[38;5;28;01mreturn\u001b[39;00m fit_method(estimator, \u001b[38;5;241m*\u001b[39margs, \u001b[38;5;241m*\u001b[39m\u001b[38;5;241m*\u001b[39mkwargs)\n",
      "File \u001b[1;32m~\\anaconda3\\Lib\\site-packages\\sklearn\\preprocessing\\_data.py:472\u001b[0m, in \u001b[0;36mMinMaxScaler.partial_fit\u001b[1;34m(self, X, y)\u001b[0m\n\u001b[0;32m    466\u001b[0m     \u001b[38;5;28;01mraise\u001b[39;00m \u001b[38;5;167;01mTypeError\u001b[39;00m(\n\u001b[0;32m    467\u001b[0m         \u001b[38;5;124m\"\u001b[39m\u001b[38;5;124mMinMaxScaler does not support sparse input. \u001b[39m\u001b[38;5;124m\"\u001b[39m\n\u001b[0;32m    468\u001b[0m         \u001b[38;5;124m\"\u001b[39m\u001b[38;5;124mConsider using MaxAbsScaler instead.\u001b[39m\u001b[38;5;124m\"\u001b[39m\n\u001b[0;32m    469\u001b[0m     )\n\u001b[0;32m    471\u001b[0m first_pass \u001b[38;5;241m=\u001b[39m \u001b[38;5;129;01mnot\u001b[39;00m \u001b[38;5;28mhasattr\u001b[39m(\u001b[38;5;28mself\u001b[39m, \u001b[38;5;124m\"\u001b[39m\u001b[38;5;124mn_samples_seen_\u001b[39m\u001b[38;5;124m\"\u001b[39m)\n\u001b[1;32m--> 472\u001b[0m X \u001b[38;5;241m=\u001b[39m \u001b[38;5;28mself\u001b[39m\u001b[38;5;241m.\u001b[39m_validate_data(\n\u001b[0;32m    473\u001b[0m     X,\n\u001b[0;32m    474\u001b[0m     reset\u001b[38;5;241m=\u001b[39mfirst_pass,\n\u001b[0;32m    475\u001b[0m     dtype\u001b[38;5;241m=\u001b[39mFLOAT_DTYPES,\n\u001b[0;32m    476\u001b[0m     force_all_finite\u001b[38;5;241m=\u001b[39m\u001b[38;5;124m\"\u001b[39m\u001b[38;5;124mallow-nan\u001b[39m\u001b[38;5;124m\"\u001b[39m,\n\u001b[0;32m    477\u001b[0m )\n\u001b[0;32m    479\u001b[0m data_min \u001b[38;5;241m=\u001b[39m np\u001b[38;5;241m.\u001b[39mnanmin(X, axis\u001b[38;5;241m=\u001b[39m\u001b[38;5;241m0\u001b[39m)\n\u001b[0;32m    480\u001b[0m data_max \u001b[38;5;241m=\u001b[39m np\u001b[38;5;241m.\u001b[39mnanmax(X, axis\u001b[38;5;241m=\u001b[39m\u001b[38;5;241m0\u001b[39m)\n",
      "File \u001b[1;32m~\\anaconda3\\Lib\\site-packages\\sklearn\\base.py:604\u001b[0m, in \u001b[0;36mBaseEstimator._validate_data\u001b[1;34m(self, X, y, reset, validate_separately, cast_to_ndarray, **check_params)\u001b[0m\n\u001b[0;32m    602\u001b[0m         out \u001b[38;5;241m=\u001b[39m X, y\n\u001b[0;32m    603\u001b[0m \u001b[38;5;28;01melif\u001b[39;00m \u001b[38;5;129;01mnot\u001b[39;00m no_val_X \u001b[38;5;129;01mand\u001b[39;00m no_val_y:\n\u001b[1;32m--> 604\u001b[0m     out \u001b[38;5;241m=\u001b[39m check_array(X, input_name\u001b[38;5;241m=\u001b[39m\u001b[38;5;124m\"\u001b[39m\u001b[38;5;124mX\u001b[39m\u001b[38;5;124m\"\u001b[39m, \u001b[38;5;241m*\u001b[39m\u001b[38;5;241m*\u001b[39mcheck_params)\n\u001b[0;32m    605\u001b[0m \u001b[38;5;28;01melif\u001b[39;00m no_val_X \u001b[38;5;129;01mand\u001b[39;00m \u001b[38;5;129;01mnot\u001b[39;00m no_val_y:\n\u001b[0;32m    606\u001b[0m     out \u001b[38;5;241m=\u001b[39m _check_y(y, \u001b[38;5;241m*\u001b[39m\u001b[38;5;241m*\u001b[39mcheck_params)\n",
      "File \u001b[1;32m~\\anaconda3\\Lib\\site-packages\\sklearn\\utils\\validation.py:917\u001b[0m, in \u001b[0;36mcheck_array\u001b[1;34m(array, accept_sparse, accept_large_sparse, dtype, order, copy, force_all_finite, ensure_2d, allow_nd, ensure_min_samples, ensure_min_features, estimator, input_name)\u001b[0m\n\u001b[0;32m    915\u001b[0m         array \u001b[38;5;241m=\u001b[39m xp\u001b[38;5;241m.\u001b[39mastype(array, dtype, copy\u001b[38;5;241m=\u001b[39m\u001b[38;5;28;01mFalse\u001b[39;00m)\n\u001b[0;32m    916\u001b[0m     \u001b[38;5;28;01melse\u001b[39;00m:\n\u001b[1;32m--> 917\u001b[0m         array \u001b[38;5;241m=\u001b[39m _asarray_with_order(array, order\u001b[38;5;241m=\u001b[39morder, dtype\u001b[38;5;241m=\u001b[39mdtype, xp\u001b[38;5;241m=\u001b[39mxp)\n\u001b[0;32m    918\u001b[0m \u001b[38;5;28;01mexcept\u001b[39;00m ComplexWarning \u001b[38;5;28;01mas\u001b[39;00m complex_warning:\n\u001b[0;32m    919\u001b[0m     \u001b[38;5;28;01mraise\u001b[39;00m \u001b[38;5;167;01mValueError\u001b[39;00m(\n\u001b[0;32m    920\u001b[0m         \u001b[38;5;124m\"\u001b[39m\u001b[38;5;124mComplex data not supported\u001b[39m\u001b[38;5;130;01m\\n\u001b[39;00m\u001b[38;5;132;01m{}\u001b[39;00m\u001b[38;5;130;01m\\n\u001b[39;00m\u001b[38;5;124m\"\u001b[39m\u001b[38;5;241m.\u001b[39mformat(array)\n\u001b[0;32m    921\u001b[0m     ) \u001b[38;5;28;01mfrom\u001b[39;00m \u001b[38;5;21;01mcomplex_warning\u001b[39;00m\n",
      "File \u001b[1;32m~\\anaconda3\\Lib\\site-packages\\sklearn\\utils\\_array_api.py:380\u001b[0m, in \u001b[0;36m_asarray_with_order\u001b[1;34m(array, dtype, order, copy, xp)\u001b[0m\n\u001b[0;32m    378\u001b[0m     array \u001b[38;5;241m=\u001b[39m numpy\u001b[38;5;241m.\u001b[39marray(array, order\u001b[38;5;241m=\u001b[39morder, dtype\u001b[38;5;241m=\u001b[39mdtype)\n\u001b[0;32m    379\u001b[0m \u001b[38;5;28;01melse\u001b[39;00m:\n\u001b[1;32m--> 380\u001b[0m     array \u001b[38;5;241m=\u001b[39m numpy\u001b[38;5;241m.\u001b[39masarray(array, order\u001b[38;5;241m=\u001b[39morder, dtype\u001b[38;5;241m=\u001b[39mdtype)\n\u001b[0;32m    382\u001b[0m \u001b[38;5;66;03m# At this point array is a NumPy ndarray. We convert it to an array\u001b[39;00m\n\u001b[0;32m    383\u001b[0m \u001b[38;5;66;03m# container that is consistent with the input's namespace.\u001b[39;00m\n\u001b[0;32m    384\u001b[0m \u001b[38;5;28;01mreturn\u001b[39;00m xp\u001b[38;5;241m.\u001b[39masarray(array)\n",
      "File \u001b[1;32m~\\anaconda3\\Lib\\site-packages\\pandas\\core\\generic.py:2070\u001b[0m, in \u001b[0;36mNDFrame.__array__\u001b[1;34m(self, dtype)\u001b[0m\n\u001b[0;32m   2069\u001b[0m \u001b[38;5;28;01mdef\u001b[39;00m \u001b[38;5;21m__array__\u001b[39m(\u001b[38;5;28mself\u001b[39m, dtype: npt\u001b[38;5;241m.\u001b[39mDTypeLike \u001b[38;5;241m|\u001b[39m \u001b[38;5;28;01mNone\u001b[39;00m \u001b[38;5;241m=\u001b[39m \u001b[38;5;28;01mNone\u001b[39;00m) \u001b[38;5;241m-\u001b[39m\u001b[38;5;241m>\u001b[39m np\u001b[38;5;241m.\u001b[39mndarray:\n\u001b[1;32m-> 2070\u001b[0m     \u001b[38;5;28;01mreturn\u001b[39;00m np\u001b[38;5;241m.\u001b[39masarray(\u001b[38;5;28mself\u001b[39m\u001b[38;5;241m.\u001b[39m_values, dtype\u001b[38;5;241m=\u001b[39mdtype)\n",
      "\u001b[1;31mValueError\u001b[0m: could not convert string to float: 'Row0'"
     ]
    }
   ],
   "source": [
    "#standardise_data_using_min_max_scaler\n",
    "# Identify non-numeric columns\n",
    "non_numeric_columns = df.select_dtypes(exclude=['number']).columns\n",
    "\n",
    "# Exclude non-numeric columns from the DataFrame\n",
    "df_numeric = df.drop(columns=non_numeric_columns)\n",
    "\n",
    "# Import the MinMaxScaler\n",
    "from sklearn import preprocessing\n",
    "scaler=preprocessing.MinMaxScaler()\n",
    "scaler.fit(df)\n",
    "df=pd.DataFrame(scaler.transform(df),index=df.index,columns=df.columns)\n",
    "print(df.iloc[4:10])\n",
    " #concatenate the non-numeric columns back to the scaled data\n",
    "df_scaled = pd.concat([df[non_numeric_columns], df_scaled], axis=1)\n"
   ]
  },
  {
   "cell_type": "code",
   "execution_count": null,
   "id": "e355b63c",
   "metadata": {},
   "outputs": [],
   "source": [
    "#Preprocessing_is_complete\n",
    "#Expolatory_data_analysis"
   ]
  }
 ],
 "metadata": {
  "kernelspec": {
   "display_name": "Python 3 (ipykernel)",
   "language": "python",
   "name": "python3"
  },
  "language_info": {
   "codemirror_mode": {
    "name": "ipython",
    "version": 3
   },
   "file_extension": ".py",
   "mimetype": "text/x-python",
   "name": "python",
   "nbconvert_exporter": "python",
   "pygments_lexer": "ipython3",
   "version": "3.11.4"
  }
 },
 "nbformat": 4,
 "nbformat_minor": 5
}
